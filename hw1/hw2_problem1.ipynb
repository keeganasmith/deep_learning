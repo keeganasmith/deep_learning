{
 "cells": [
  {
   "cell_type": "code",
   "execution_count": 2,
   "id": "986f5aa6-277d-42e9-b469-6ac8d8844658",
   "metadata": {},
   "outputs": [],
   "source": [
    "import tensorflow as tf"
   ]
  },
  {
   "cell_type": "code",
   "execution_count": 6,
   "id": "7d41023b-2322-43e4-8dd6-21d6cca74ba3",
   "metadata": {},
   "outputs": [
    {
     "name": "stdout",
     "output_type": "stream",
     "text": [
      "Gradient at x = 0.0 is 1.0\n",
      "Gradient at x = 0.1 is 0.9950041770935059\n",
      "Gradient at x = 0.2 is 0.9800665974617004\n",
      "Gradient at x = 0.30000000000000004 is 0.9553365111351013\n"
     ]
    }
   ],
   "source": [
    "for i in range(0, 4):\n",
    "    input_var = tf.Variable(initial_value=i * .1)\n",
    "    with tf.GradientTape() as tape:\n",
    "        result = tf.sin(input_var)\n",
    "    gradient = tape.gradient(result, input_var)\n",
    "    print(f\"Gradient at x = {i * .1} is {gradient}\")\n"
   ]
  },
  {
   "cell_type": "code",
   "execution_count": 7,
   "id": "0c6bee1f-63a3-40ae-a7f0-be8efdd5390b",
   "metadata": {},
   "outputs": [
    {
     "data": {
      "text/plain": [
       "'\\nResult:\\nGradient at x = 0.0 is 1.0\\nGradient at x = 0.1 is 0.9950041770935059\\nGradient at x = 0.2 is 0.9800665974617004\\nGradient at x = 0.30000000000000004 is 0.9553365111351013\\n'"
      ]
     },
     "execution_count": 7,
     "metadata": {},
     "output_type": "execute_result"
    }
   ],
   "source": [
    "\"\"\"\n",
    "Result:\n",
    "Gradient at x = 0.0 is 1.0\n",
    "Gradient at x = 0.1 is 0.9950041770935059\n",
    "Gradient at x = 0.2 is 0.9800665974617004\n",
    "Gradient at x = 0.30000000000000004 is 0.9553365111351013\n",
    "\"\"\""
   ]
  },
  {
   "cell_type": "code",
   "execution_count": null,
   "id": "19ca2e91-41cc-47bd-8d17-0292865eeae9",
   "metadata": {},
   "outputs": [],
   "source": []
  }
 ],
 "metadata": {
  "kernelspec": {
   "display_name": "Python 3 (ipykernel)",
   "language": "python",
   "name": "python3"
  },
  "language_info": {
   "codemirror_mode": {
    "name": "ipython",
    "version": 3
   },
   "file_extension": ".py",
   "mimetype": "text/x-python",
   "name": "python",
   "nbconvert_exporter": "python",
   "pygments_lexer": "ipython3",
   "version": "3.10.8"
  }
 },
 "nbformat": 4,
 "nbformat_minor": 5
}
