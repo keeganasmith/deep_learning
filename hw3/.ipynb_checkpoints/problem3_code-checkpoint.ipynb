{
 "cells": [
  {
   "cell_type": "code",
   "execution_count": 1,
   "id": "c65063ba-0f5d-496f-99a2-124c8c4d4e79",
   "metadata": {},
   "outputs": [
    {
     "name": "stderr",
     "output_type": "stream",
     "text": [
      "2025-02-19 20:58:04.629747: I tensorflow/core/util/port.cc:153] oneDNN custom operations are on. You may see slightly different numerical results due to floating-point round-off errors from different computation orders. To turn them off, set the environment variable `TF_ENABLE_ONEDNN_OPTS=0`.\n",
      "2025-02-19 20:58:04.766430: E external/local_xla/xla/stream_executor/cuda/cuda_fft.cc:477] Unable to register cuFFT factory: Attempting to register factory for plugin cuFFT when one has already been registered\n",
      "WARNING: All log messages before absl::InitializeLog() is called are written to STDERR\n",
      "E0000 00:00:1740020284.778575 3845451 cuda_dnn.cc:8310] Unable to register cuDNN factory: Attempting to register factory for plugin cuDNN when one has already been registered\n",
      "E0000 00:00:1740020284.782274 3845451 cuda_blas.cc:1418] Unable to register cuBLAS factory: Attempting to register factory for plugin cuBLAS when one has already been registered\n",
      "2025-02-19 20:58:04.795739: I tensorflow/core/platform/cpu_feature_guard.cc:210] This TensorFlow binary is optimized to use available CPU instructions in performance-critical operations.\n",
      "To enable the following instructions: AVX2 AVX512F AVX512_VNNI AVX512_BF16 FMA, in other operations, rebuild TensorFlow with the appropriate compiler flags.\n"
     ]
    }
   ],
   "source": [
    "import numpy as np\n",
    "from tensorflow.keras.datasets import mnist\n",
    "\n",
    "# Load MNIST data\n",
    "(train_images, train_labels), (test_images, test_labels) = mnist.load_data()\n",
    "\n",
    "# Define the new groups: key=new label, value=(original label A, original label B)\n",
    "pair_groups = {\n",
    "    0: (0, 1),\n",
    "    1: (2, 3),\n",
    "    2: (4, 5),\n",
    "    3: (6, 7),\n",
    "    4: (8, 9)\n",
    "}"
   ]
  },
  {
   "cell_type": "code",
   "execution_count": 2,
   "id": "890474e4-0194-4152-a870-09ce0133d066",
   "metadata": {},
   "outputs": [],
   "source": [
    "def create_mixed_dataset(images, labels, pair_groups, random_seed=42):\n",
    "    np.random.seed(random_seed)\n",
    "    mixed_images = []\n",
    "    mixed_labels = []\n",
    "    \n",
    "    # For each new label group\n",
    "    for new_label, (label_a, label_b) in pair_groups.items():\n",
    "        # Get all indices for each original label\n",
    "        indices_a = np.where(labels == label_a)[0]\n",
    "        indices_b = np.where(labels == label_b)[0]\n",
    "        \n",
    "        # Shuffle the indices to randomize pairing\n",
    "        np.random.shuffle(indices_a)\n",
    "        np.random.shuffle(indices_b)\n",
    "        \n",
    "        # Use the minimum number of available images to form pairs\n",
    "        num_pairs = min(len(indices_a), len(indices_b))\n",
    "        \n",
    "        for i in range(num_pairs):\n",
    "            # Convert images to float for averaging\n",
    "            img_a = images[indices_a[i]].astype(np.float32)\n",
    "            img_b = images[indices_b[i]].astype(np.float32)\n",
    "            \n",
    "            # Compute pixel-wise average to create a mixed image\n",
    "            mixed_img = (img_a + img_b) / 2.0\n",
    "            \n",
    "            mixed_images.append(mixed_img)\n",
    "            mixed_labels.append(new_label)\n",
    "    \n",
    "    return np.array(mixed_images), np.array(mixed_labels)"
   ]
  },
  {
   "cell_type": "code",
   "execution_count": 3,
   "id": "290b6f82-5812-434f-86a2-b52eef7be4df",
   "metadata": {},
   "outputs": [
    {
     "name": "stdout",
     "output_type": "stream",
     "text": [
      "New training dataset shape: (29071, 28, 28) (29071,)\n",
      "New test dataset shape: (4814, 28, 28) (4814,)\n"
     ]
    }
   ],
   "source": [
    "# Create the new mixed training dataset\n",
    "new_train_images, new_train_labels = create_mixed_dataset(train_images, train_labels, pair_groups)\n",
    "\n",
    "# Create the new mixed test dataset\n",
    "new_test_images, new_test_labels = create_mixed_dataset(test_images, test_labels, pair_groups)\n",
    "\n",
    "# Print the shapes of the new datasets\n",
    "print(\"New training dataset shape:\", new_train_images.shape, new_train_labels.shape)\n",
    "print(\"New test dataset shape:\", new_test_images.shape, new_test_labels.shape)"
   ]
  },
  {
   "cell_type": "code",
   "execution_count": 4,
   "id": "33e57125-8f6b-40d1-9c01-7663f2f90990",
   "metadata": {},
   "outputs": [
    {
     "data": {
      "image/png": "[encoded data removed]",
      "text/plain": [
       "<Figure size 800x1000 with 10 Axes>"
      ]
     },
     "metadata": {},
     "output_type": "display_data"
    }
   ],
   "source": [
    "import numpy as np\n",
    "import matplotlib.pyplot as plt\n",
    "\n",
    "# Assuming new_train_images and new_train_labels have been created as in the previous code.\n",
    "\n",
    "# Get the unique new labels (0, 1, 2, 3, 4)\n",
    "unique_labels = np.unique(new_train_labels)\n",
    "\n",
    "# Create a subplot: 5 rows (one per label) and 2 columns (2 images per label)\n",
    "fig, axes = plt.subplots(nrows=len(unique_labels), ncols=2, figsize=(8, len(unique_labels)*2))\n",
    "\n",
    "# Loop through each label and display 2 random images\n",
    "for i, label in enumerate(unique_labels):\n",
    "    # Find indices of images with the current label\n",
    "    label_indices = np.where(new_train_labels == label)[0]\n",
    "    # Randomly select 2 indices for the current label\n",
    "    selected_indices = np.random.choice(label_indices, size=2, replace=False)\n",
    "    \n",
    "    for j, idx in enumerate(selected_indices):\n",
    "        axes[i, j].imshow(new_train_images[idx], cmap='gray')\n",
    "        axes[i, j].axis('off')\n",
    "        axes[i, j].set_title(f'Label {label}', fontsize=10)\n",
    "\n",
    "plt.tight_layout()\n",
    "plt.show()\n"
   ]
  },
  {
   "cell_type": "code",
   "execution_count": null,
   "id": "008bfb3f-0db0-4828-9ead-aaf65f22909b",
   "metadata": {},
   "outputs": [],
   "source": []
  }
 ],
 "metadata": {
  "kernelspec": {
   "display_name": "Python 3 (ipykernel)",
   "language": "python",
   "name": "python3"
  },
  "language_info": {
   "codemirror_mode": {
    "name": "ipython",
    "version": 3
   },
   "file_extension": ".py",
   "mimetype": "text/x-python",
   "name": "python",
   "nbconvert_exporter": "python",
   "pygments_lexer": "ipython3",
   "version": "3.10.8"
  }
 },
 "nbformat": 4,
 "nbformat_minor": 5
}
